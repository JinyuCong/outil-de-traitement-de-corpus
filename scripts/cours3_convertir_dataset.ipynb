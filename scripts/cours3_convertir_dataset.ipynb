{
 "cells": [
  {
   "cell_type": "code",
   "execution_count": 1,
   "metadata": {},
   "outputs": [],
   "source": [
    "import pandas as pd\n",
    "from sklearn.model_selection import train_test_split\n"
   ]
  },
  {
   "cell_type": "code",
   "execution_count": 6,
   "metadata": {},
   "outputs": [],
   "source": [
    "file_path = '../data/dataset.csv'\n",
    "df = pd.read_csv(file_path)\n",
    "df = df.iloc[:, :2]"
   ]
  },
  {
   "cell_type": "code",
   "execution_count": 12,
   "metadata": {},
   "outputs": [
    {
     "name": "stdout",
     "output_type": "stream",
     "text": [
      "                                       images  labels\n",
      "104         ../data/cleaned\\angry\\angry37.jpg       0\n",
      "277          ../data/cleaned\\happy\\happy5.jpg       1\n",
      "423   ../data/cleaned\\surprise\\surprise36.jpg       2\n",
      "471   ../data/cleaned\\surprise\\surprise90.jpg       2\n",
      "77          ../data/cleaned\\angry\\angry18.jpg       0\n",
      "175        ../data/cleaned\\happy\\happy112.jpg       1\n",
      "268          ../data/cleaned\\happy\\happy4.jpg       1\n",
      "78         ../data/cleaned\\angry\\angry180.jpg       0\n",
      "302         ../data/cleaned\\happy\\happy78.jpg       1\n",
      "19          ../data/cleaned\\angry\\angry12.jpg       0\n",
      "82         ../data/cleaned\\angry\\angry184.jpg       0\n",
      "419   ../data/cleaned\\surprise\\surprise32.jpg       2\n",
      "305         ../data/cleaned\\happy\\happy81.jpg       1\n",
      "220        ../data/cleaned\\happy\\happy162.jpg       1\n",
      "390  ../data/cleaned\\surprise\\surprise178.jpg       2\n",
      "304         ../data/cleaned\\happy\\happy80.jpg       1\n",
      "459   ../data/cleaned\\surprise\\surprise79.jpg       2\n",
      "322   ../data/cleaned\\surprise\\surprise10.jpg       2\n",
      "253         ../data/cleaned\\happy\\happy25.jpg       1\n",
      "408   ../data/cleaned\\surprise\\surprise20.jpg       2\n",
      "249          ../data/cleaned\\happy\\happy2.jpg       1\n",
      "185        ../data/cleaned\\happy\\happy121.jpg       1\n",
      "477   ../data/cleaned\\surprise\\surprise97.jpg       2\n",
      "155         ../data/cleaned\\angry\\angry94.jpg       0\n",
      "464   ../data/cleaned\\surprise\\surprise84.jpg       2\n",
      "101         ../data/cleaned\\angry\\angry33.jpg       0\n",
      "380  ../data/cleaned\\surprise\\surprise167.jpg       2\n",
      "432   ../data/cleaned\\surprise\\surprise49.jpg       2\n",
      "113         ../data/cleaned\\angry\\angry47.jpg       0\n",
      "137         ../data/cleaned\\angry\\angry73.jpg       0\n",
      "15         ../data/cleaned\\angry\\angry114.jpg       0\n",
      "173        ../data/cleaned\\happy\\happy110.jpg       1\n",
      "0            ../data/cleaned\\angry\\angry0.jpg       0\n",
      "414   ../data/cleaned\\surprise\\surprise27.jpg       2\n",
      "415   ../data/cleaned\\surprise\\surprise28.jpg       2\n",
      "465   ../data/cleaned\\surprise\\surprise85.jpg       2\n",
      "394  ../data/cleaned\\surprise\\surprise182.jpg       2\n",
      "261         ../data/cleaned\\happy\\happy32.jpg       1\n",
      "56         ../data/cleaned\\angry\\angry157.jpg       0\n",
      "154         ../data/cleaned\\angry\\angry93.jpg       0\n",
      "320    ../data/cleaned\\surprise\\surprise0.jpg       2\n",
      "153         ../data/cleaned\\angry\\angry92.jpg       0\n",
      "180        ../data/cleaned\\happy\\happy117.jpg       1\n",
      "463   ../data/cleaned\\surprise\\surprise83.jpg       2\n",
      "79         ../data/cleaned\\angry\\angry181.jpg       0\n",
      "30         ../data/cleaned\\angry\\angry130.jpg       0\n",
      "237        ../data/cleaned\\happy\\happy178.jpg       1\n",
      "340  ../data/cleaned\\surprise\\surprise121.jpg       2\n"
     ]
    }
   ],
   "source": [
    "# Division du jeu de données\n",
    "# Division en données de train et données temporaires\n",
    "train_data, temp_data = train_test_split(df, test_size=0.2, random_state=42)\n",
    "# Division des données temporaires en données de dev et de test\n",
    "dev_data, test_data = train_test_split(temp_data, test_size=0.5, random_state=42)\n",
    "print(dev_data)"
   ]
  },
  {
   "cell_type": "code",
   "execution_count": 14,
   "metadata": {},
   "outputs": [],
   "source": [
    "# Assurer que 20% des échantillons dans les ensembles de dev et de test sont classés comme négatifs\n",
    "happy_dev_size = int(0.2 * len(dev_data))\n",
    "happy_test_size = int(0.2 * len(test_data))"
   ]
  },
  {
   "cell_type": "code",
   "execution_count": 15,
   "metadata": {},
   "outputs": [
    {
     "ename": "ValueError",
     "evalue": "a must be greater than 0 unless no samples are taken",
     "output_type": "error",
     "traceback": [
      "\u001b[0;31m---------------------------------------------------------------------------\u001b[0m",
      "\u001b[0;31mValueError\u001b[0m                                Traceback (most recent call last)",
      "Cell \u001b[0;32mIn[15], line 2\u001b[0m\n\u001b[1;32m      1\u001b[0m \u001b[38;5;66;03m# Obtenir les index des échantillons classés comme négatifs dans les ensembles de dev et de test\u001b[39;00m\n\u001b[0;32m----> 2\u001b[0m happy_dev_indices \u001b[38;5;241m=\u001b[39m dev_data[dev_data[\u001b[38;5;124m'\u001b[39m\u001b[38;5;124mlabels\u001b[39m\u001b[38;5;124m'\u001b[39m] \u001b[38;5;241m==\u001b[39m \u001b[38;5;124m'\u001b[39m\u001b[38;5;124mhappy\u001b[39m\u001b[38;5;124m'\u001b[39m]\u001b[38;5;241m.\u001b[39msample(n\u001b[38;5;241m=\u001b[39mhappy_dev_size, random_state\u001b[38;5;241m=\u001b[39m\u001b[38;5;241m42\u001b[39m)\u001b[38;5;241m.\u001b[39mindex\n\u001b[1;32m      3\u001b[0m happy_test_indices \u001b[38;5;241m=\u001b[39m test_data[test_data[\u001b[38;5;124m'\u001b[39m\u001b[38;5;124mlabels\u001b[39m\u001b[38;5;124m'\u001b[39m] \u001b[38;5;241m==\u001b[39m \u001b[38;5;124m'\u001b[39m\u001b[38;5;124mhappy\u001b[39m\u001b[38;5;124m'\u001b[39m]\u001b[38;5;241m.\u001b[39msample(n\u001b[38;5;241m=\u001b[39mhappy_test_size, random_state\u001b[38;5;241m=\u001b[39m\u001b[38;5;241m42\u001b[39m)\u001b[38;5;241m.\u001b[39mindex\n",
      "File \u001b[0;32m~/anaconda3/lib/python3.11/site-packages/pandas/core/generic.py:5773\u001b[0m, in \u001b[0;36mNDFrame.sample\u001b[0;34m(self, n, frac, replace, weights, random_state, axis, ignore_index)\u001b[0m\n\u001b[1;32m   5770\u001b[0m \u001b[38;5;28;01mif\u001b[39;00m weights \u001b[38;5;129;01mis\u001b[39;00m \u001b[38;5;129;01mnot\u001b[39;00m \u001b[38;5;28;01mNone\u001b[39;00m:\n\u001b[1;32m   5771\u001b[0m     weights \u001b[38;5;241m=\u001b[39m sample\u001b[38;5;241m.\u001b[39mpreprocess_weights(\u001b[38;5;28mself\u001b[39m, weights, axis)\n\u001b[0;32m-> 5773\u001b[0m sampled_indices \u001b[38;5;241m=\u001b[39m sample\u001b[38;5;241m.\u001b[39msample(obj_len, size, replace, weights, rs)\n\u001b[1;32m   5774\u001b[0m result \u001b[38;5;241m=\u001b[39m \u001b[38;5;28mself\u001b[39m\u001b[38;5;241m.\u001b[39mtake(sampled_indices, axis\u001b[38;5;241m=\u001b[39maxis)\n\u001b[1;32m   5776\u001b[0m \u001b[38;5;28;01mif\u001b[39;00m ignore_index:\n",
      "File \u001b[0;32m~/anaconda3/lib/python3.11/site-packages/pandas/core/sample.py:150\u001b[0m, in \u001b[0;36msample\u001b[0;34m(obj_len, size, replace, weights, random_state)\u001b[0m\n\u001b[1;32m    147\u001b[0m     \u001b[38;5;28;01melse\u001b[39;00m:\n\u001b[1;32m    148\u001b[0m         \u001b[38;5;28;01mraise\u001b[39;00m \u001b[38;5;167;01mValueError\u001b[39;00m(\u001b[38;5;124m\"\u001b[39m\u001b[38;5;124mInvalid weights: weights sum to zero\u001b[39m\u001b[38;5;124m\"\u001b[39m)\n\u001b[0;32m--> 150\u001b[0m \u001b[38;5;28;01mreturn\u001b[39;00m random_state\u001b[38;5;241m.\u001b[39mchoice(obj_len, size\u001b[38;5;241m=\u001b[39msize, replace\u001b[38;5;241m=\u001b[39mreplace, p\u001b[38;5;241m=\u001b[39mweights)\u001b[38;5;241m.\u001b[39mastype(\n\u001b[1;32m    151\u001b[0m     np\u001b[38;5;241m.\u001b[39mintp, copy\u001b[38;5;241m=\u001b[39m\u001b[38;5;28;01mFalse\u001b[39;00m\n\u001b[1;32m    152\u001b[0m )\n",
      "File \u001b[0;32mmtrand.pyx:928\u001b[0m, in \u001b[0;36mnumpy.random.mtrand.RandomState.choice\u001b[0;34m()\u001b[0m\n",
      "\u001b[0;31mValueError\u001b[0m: a must be greater than 0 unless no samples are taken"
     ]
    }
   ],
   "source": [
    "# Obtenir les index des échantillons classés comme négatifs dans les ensembles de dev et de test\n",
    "happy_dev_indices = dev_data[dev_data['labels'] == 'happy'].sample(n=happy_dev_size, random_state=42).index\n",
    "happy_test_indices = test_data[test_data['labels'] == 'happy'].sample(n=happy_test_size, random_state=42).index\n"
   ]
  },
  {
   "cell_type": "code",
   "execution_count": null,
   "metadata": {},
   "outputs": [],
   "source": []
  }
 ],
 "metadata": {
  "kernelspec": {
   "display_name": "base",
   "language": "python",
   "name": "python3"
  },
  "language_info": {
   "codemirror_mode": {
    "name": "ipython",
    "version": 3
   },
   "file_extension": ".py",
   "mimetype": "text/x-python",
   "name": "python",
   "nbconvert_exporter": "python",
   "pygments_lexer": "ipython3",
   "version": "3.11.4"
  }
 },
 "nbformat": 4,
 "nbformat_minor": 2
}
